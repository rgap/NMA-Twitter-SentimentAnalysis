{
 "cells": [
  {
   "cell_type": "code",
   "execution_count": 3,
   "id": "6f821582-7fa1-483b-aa53-f43b3b85b526",
   "metadata": {},
   "outputs": [],
   "source": [
    "# We import some libraries to load the dataset\n",
    "import os\n",
    "import numpy as np\n",
    "import pandas as pd\n",
    "import matplotlib.pyplot as plt\n",
    "from collections import Counter\n",
    "from tqdm.notebook import tqdm\n",
    "\n",
    "import torch\n",
    "import torch.nn as nn\n",
    "import torch.optim as optim\n",
    "import torch.nn.functional as F\n",
    "from torch.utils.data import TensorDataset, DataLoader\n",
    "\n",
    "import torchtext\n",
    "from torchtext.data import get_tokenizer\n",
    "\n",
    "# from sklearn.utils import shuffle\n",
    "# from sklearn.metrics import classification_report\n",
    "# from sklearn.linear_model import LogisticRegression\n",
    "# from sklearn.model_selection import train_test_split\n",
    "# from sklearn.feature_extraction.text import CountVectorizer"
   ]
  },
  {
   "cell_type": "markdown",
   "id": "4c3e63b1-84b9-4f60-87b1-f7846df04f42",
   "metadata": {},
   "source": [
    "## 1. Read the CSV"
   ]
  },
  {
   "cell_type": "code",
   "execution_count": 6,
   "id": "d7b56f81-2500-4817-b55c-ae1ba74d5523",
   "metadata": {},
   "outputs": [
    {
     "data": {
      "text/html": [
       "<div>\n",
       "<style scoped>\n",
       "    .dataframe tbody tr th:only-of-type {\n",
       "        vertical-align: middle;\n",
       "    }\n",
       "\n",
       "    .dataframe tbody tr th {\n",
       "        vertical-align: top;\n",
       "    }\n",
       "\n",
       "    .dataframe thead th {\n",
       "        text-align: right;\n",
       "    }\n",
       "</style>\n",
       "<table border=\"1\" class=\"dataframe\">\n",
       "  <thead>\n",
       "    <tr style=\"text-align: right;\">\n",
       "      <th></th>\n",
       "      <th>polarity</th>\n",
       "      <th>id</th>\n",
       "      <th>date</th>\n",
       "      <th>query</th>\n",
       "      <th>user</th>\n",
       "      <th>text</th>\n",
       "    </tr>\n",
       "  </thead>\n",
       "  <tbody>\n",
       "    <tr>\n",
       "      <th>0</th>\n",
       "      <td>0</td>\n",
       "      <td>1467810369</td>\n",
       "      <td>Mon Apr 06 22:19:45 PDT 2009</td>\n",
       "      <td>NO_QUERY</td>\n",
       "      <td>_TheSpecialOne_</td>\n",
       "      <td>@switchfoot http://twitpic.com/2y1zl - Awww, t...</td>\n",
       "    </tr>\n",
       "    <tr>\n",
       "      <th>1</th>\n",
       "      <td>0</td>\n",
       "      <td>1467810672</td>\n",
       "      <td>Mon Apr 06 22:19:49 PDT 2009</td>\n",
       "      <td>NO_QUERY</td>\n",
       "      <td>scotthamilton</td>\n",
       "      <td>is upset that he can't update his Facebook by ...</td>\n",
       "    </tr>\n",
       "  </tbody>\n",
       "</table>\n",
       "</div>"
      ],
      "text/plain": [
       "   polarity          id                          date     query  \\\n",
       "0         0  1467810369  Mon Apr 06 22:19:45 PDT 2009  NO_QUERY   \n",
       "1         0  1467810672  Mon Apr 06 22:19:49 PDT 2009  NO_QUERY   \n",
       "\n",
       "              user                                               text  \n",
       "0  _TheSpecialOne_  @switchfoot http://twitpic.com/2y1zl - Awww, t...  \n",
       "1    scotthamilton  is upset that he can't update his Facebook by ...  "
      ]
     },
     "execution_count": 6,
     "metadata": {},
     "output_type": "execute_result"
    }
   ],
   "source": [
    "raw_data_directory = 'data/raw/'\n",
    "\n",
    "# We load the dataset\n",
    "header_list = [\"polarity\", \"id\", \"date\", \"query\", \"user\", \"text\"]\n",
    "df = pd.read_csv(raw_data_directory + 'training.1600000.processed.noemoticon.csv',\n",
    "                 encoding = \"ISO-8859-1\", names=header_list)\n",
    "\n",
    "# Let's have a look at it\n",
    "df.head(2)"
   ]
  },
  {
   "cell_type": "markdown",
   "id": "68decfc8-0153-426c-91f1-fbf7abc0b92c",
   "metadata": {},
   "source": [
    "## 2. Questions and goals\n",
    "- Can we infer emotion from a tweet text?\n",
    "- How do words are distributed accross the dataset?\n",
    "- Are words related to one kind of emotion?\n",
    "\n",
    "- Look at the polarity distribution"
   ]
  },
  {
   "cell_type": "markdown",
   "id": "1fb39d52-8125-4704-86d6-2ffd9f46fc70",
   "metadata": {},
   "source": [
    "## 3. Data Analysis"
   ]
  },
  {
   "cell_type": "code",
   "execution_count": 8,
   "id": "43955dd9-b9b2-4e1a-9032-1fbf4e0e1d01",
   "metadata": {},
   "outputs": [
    {
     "name": "stdout",
     "output_type": "stream",
     "text": [
      "(1600000, 6)\n"
     ]
    }
   ],
   "source": [
    "#visualizamos la información de las columnas y sus tipos\n",
    "print(df.shape)"
   ]
  },
  {
   "cell_type": "markdown",
   "id": "af276e35-f6ed-421f-9a04-1738e482e9e4",
   "metadata": {},
   "source": [
    "## 4. Understanding the columns\n",
    "\n",
    "### 4.1. Polarity\n",
    "\n",
    "Polarity means a large difference from the middle\n",
    "\n",
    "- 0: Negative sentiment (Negatively Polar Opinion)\n",
    "- 2: Neutral sentiment\n",
    "- 4: Positive sentiment (Positively Polar Opinion)\n",
    "\n",
    "### 4.2. id\n",
    "\n",
    "Unique identifier\n",
    "\n",
    "### 4.3. Date\n",
    "\n",
    "Posting date\n",
    "\n",
    "### TODO: Query, user are omitted\n",
    "\n",
    "### 4.4. Text\n",
    "\n",
    "Tweet text"
   ]
  },
  {
   "cell_type": "markdown",
   "id": "f4bb30f1-7a83-40c6-8771-a6714491850e",
   "metadata": {},
   "source": [
    "## "
   ]
  },
  {
   "cell_type": "code",
   "execution_count": null,
   "id": "92735c7a-2b29-430a-8d54-c506e58d8fc3",
   "metadata": {},
   "outputs": [],
   "source": []
  }
 ],
 "metadata": {
  "kernelspec": {
   "display_name": "Python 3 (ipykernel)",
   "language": "python",
   "name": "python3"
  },
  "language_info": {
   "codemirror_mode": {
    "name": "ipython",
    "version": 3
   },
   "file_extension": ".py",
   "mimetype": "text/x-python",
   "name": "python",
   "nbconvert_exporter": "python",
   "pygments_lexer": "ipython3",
   "version": "3.12.2"
  }
 },
 "nbformat": 4,
 "nbformat_minor": 5
}
